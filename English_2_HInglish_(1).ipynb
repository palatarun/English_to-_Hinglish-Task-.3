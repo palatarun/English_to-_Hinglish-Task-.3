{
  "nbformat": 4,
  "nbformat_minor": 0,
  "metadata": {
    "colab": {
      "provenance": []
    },
    "kernelspec": {
      "name": "python3",
      "display_name": "Python 3"
    },
    "language_info": {
      "name": "python"
    }
  },
  "cells": [
    {
      "cell_type": "code",
      "execution_count": 1,
      "metadata": {
        "colab": {
          "base_uri": "https://localhost:8080/"
        },
        "id": "lMPbT7dA4Kyw",
        "outputId": "dccc17cd-055b-4f89-c1d7-4431d773d304"
      },
      "outputs": [
        {
          "output_type": "stream",
          "name": "stdout",
          "text": [
            "Requirement already satisfied: nltk in /usr/local/lib/python3.10/dist-packages (3.8.1)\n",
            "Requirement already satisfied: click in /usr/local/lib/python3.10/dist-packages (from nltk) (8.1.7)\n",
            "Requirement already satisfied: joblib in /usr/local/lib/python3.10/dist-packages (from nltk) (1.3.2)\n",
            "Requirement already satisfied: regex>=2021.8.3 in /usr/local/lib/python3.10/dist-packages (from nltk) (2023.6.3)\n",
            "Requirement already satisfied: tqdm in /usr/local/lib/python3.10/dist-packages (from nltk) (4.66.1)\n",
            "Collecting googletrans==4.0.0-rc1\n",
            "  Downloading googletrans-4.0.0rc1.tar.gz (20 kB)\n",
            "  Preparing metadata (setup.py) ... \u001b[?25l\u001b[?25hdone\n",
            "Collecting httpx==0.13.3 (from googletrans==4.0.0-rc1)\n",
            "  Downloading httpx-0.13.3-py3-none-any.whl (55 kB)\n",
            "\u001b[2K     \u001b[90m━━━━━━━━━━━━━━━━━━━━━━━━━━━━━━━━━━━━━━━━\u001b[0m \u001b[32m55.1/55.1 kB\u001b[0m \u001b[31m1.5 MB/s\u001b[0m eta \u001b[36m0:00:00\u001b[0m\n",
            "\u001b[?25hRequirement already satisfied: certifi in /usr/local/lib/python3.10/dist-packages (from httpx==0.13.3->googletrans==4.0.0-rc1) (2023.7.22)\n",
            "Collecting hstspreload (from httpx==0.13.3->googletrans==4.0.0-rc1)\n",
            "  Downloading hstspreload-2023.1.1-py3-none-any.whl (1.5 MB)\n",
            "\u001b[2K     \u001b[90m━━━━━━━━━━━━━━━━━━━━━━━━━━━━━━━━━━━━━━━━\u001b[0m \u001b[32m1.5/1.5 MB\u001b[0m \u001b[31m14.0 MB/s\u001b[0m eta \u001b[36m0:00:00\u001b[0m\n",
            "\u001b[?25hRequirement already satisfied: sniffio in /usr/local/lib/python3.10/dist-packages (from httpx==0.13.3->googletrans==4.0.0-rc1) (1.3.0)\n",
            "Collecting chardet==3.* (from httpx==0.13.3->googletrans==4.0.0-rc1)\n",
            "  Downloading chardet-3.0.4-py2.py3-none-any.whl (133 kB)\n",
            "\u001b[2K     \u001b[90m━━━━━━━━━━━━━━━━━━━━━━━━━━━━━━━━━━━━━━\u001b[0m \u001b[32m133.4/133.4 kB\u001b[0m \u001b[31m13.2 MB/s\u001b[0m eta \u001b[36m0:00:00\u001b[0m\n",
            "\u001b[?25hCollecting idna==2.* (from httpx==0.13.3->googletrans==4.0.0-rc1)\n",
            "  Downloading idna-2.10-py2.py3-none-any.whl (58 kB)\n",
            "\u001b[2K     \u001b[90m━━━━━━━━━━━━━━━━━━━━━━━━━━━━━━━━━━━━━━━━\u001b[0m \u001b[32m58.8/58.8 kB\u001b[0m \u001b[31m4.2 MB/s\u001b[0m eta \u001b[36m0:00:00\u001b[0m\n",
            "\u001b[?25hCollecting rfc3986<2,>=1.3 (from httpx==0.13.3->googletrans==4.0.0-rc1)\n",
            "  Downloading rfc3986-1.5.0-py2.py3-none-any.whl (31 kB)\n",
            "Collecting httpcore==0.9.* (from httpx==0.13.3->googletrans==4.0.0-rc1)\n",
            "  Downloading httpcore-0.9.1-py3-none-any.whl (42 kB)\n",
            "\u001b[2K     \u001b[90m━━━━━━━━━━━━━━━━━━━━━━━━━━━━━━━━━━━━━━━━\u001b[0m \u001b[32m42.6/42.6 kB\u001b[0m \u001b[31m4.1 MB/s\u001b[0m eta \u001b[36m0:00:00\u001b[0m\n",
            "\u001b[?25hCollecting h11<0.10,>=0.8 (from httpcore==0.9.*->httpx==0.13.3->googletrans==4.0.0-rc1)\n",
            "  Downloading h11-0.9.0-py2.py3-none-any.whl (53 kB)\n",
            "\u001b[2K     \u001b[90m━━━━━━━━━━━━━━━━━━━━━━━━━━━━━━━━━━━━━━━━\u001b[0m \u001b[32m53.6/53.6 kB\u001b[0m \u001b[31m5.6 MB/s\u001b[0m eta \u001b[36m0:00:00\u001b[0m\n",
            "\u001b[?25hCollecting h2==3.* (from httpcore==0.9.*->httpx==0.13.3->googletrans==4.0.0-rc1)\n",
            "  Downloading h2-3.2.0-py2.py3-none-any.whl (65 kB)\n",
            "\u001b[2K     \u001b[90m━━━━━━━━━━━━━━━━━━━━━━━━━━━━━━━━━━━━━━━━\u001b[0m \u001b[32m65.0/65.0 kB\u001b[0m \u001b[31m5.8 MB/s\u001b[0m eta \u001b[36m0:00:00\u001b[0m\n",
            "\u001b[?25hCollecting hyperframe<6,>=5.2.0 (from h2==3.*->httpcore==0.9.*->httpx==0.13.3->googletrans==4.0.0-rc1)\n",
            "  Downloading hyperframe-5.2.0-py2.py3-none-any.whl (12 kB)\n",
            "Collecting hpack<4,>=3.0 (from h2==3.*->httpcore==0.9.*->httpx==0.13.3->googletrans==4.0.0-rc1)\n",
            "  Downloading hpack-3.0.0-py2.py3-none-any.whl (38 kB)\n",
            "Building wheels for collected packages: googletrans\n",
            "  Building wheel for googletrans (setup.py) ... \u001b[?25l\u001b[?25hdone\n",
            "  Created wheel for googletrans: filename=googletrans-4.0.0rc1-py3-none-any.whl size=17396 sha256=2f70e2ba83df144cfff56789670e530dc8243b5614c99987a733b92ef93768cc\n",
            "  Stored in directory: /root/.cache/pip/wheels/c0/59/9f/7372f0cf70160fe61b528532e1a7c8498c4becd6bcffb022de\n",
            "Successfully built googletrans\n",
            "Installing collected packages: rfc3986, hyperframe, hpack, h11, chardet, idna, hstspreload, h2, httpcore, httpx, googletrans\n",
            "  Attempting uninstall: chardet\n",
            "    Found existing installation: chardet 5.2.0\n",
            "    Uninstalling chardet-5.2.0:\n",
            "      Successfully uninstalled chardet-5.2.0\n",
            "  Attempting uninstall: idna\n",
            "    Found existing installation: idna 3.4\n",
            "    Uninstalling idna-3.4:\n",
            "      Successfully uninstalled idna-3.4\n",
            "Successfully installed chardet-3.0.4 googletrans-4.0.0rc1 h11-0.9.0 h2-3.2.0 hpack-3.0.0 hstspreload-2023.1.1 httpcore-0.9.1 httpx-0.13.3 hyperframe-5.2.0 idna-2.10 rfc3986-1.5.0\n"
          ]
        }
      ],
      "source": [
        "!pip install nltk  # Install the Natural Language Toolkit (NLTK) library.\n",
        "!pip install googletrans==4.0.0-rc1  # Install version 4.0.0-rc1 of the googletrans library."
      ]
    },
    {
      "cell_type": "code",
      "source": [
        "# Import the 're' module for regular expressions.\n",
        "import re\n",
        "\n",
        "# Import the 'nltk' library for natural language processing.\n",
        "import nltk\n",
        "\n",
        "# Import specific functions 'pos_tag' and 'word_tokenize' from nltk.\n",
        "from nltk import pos_tag, word_tokenize\n",
        "\n",
        "# Import the 'Translator' class from the 'googletrans' library.\n",
        "from googletrans import Translator\n",
        "\n",
        "# Download the 'punkt' & 'averaged_perceptron_tagger' dataset for NLTK\n",
        "nltk.download('punkt')\n",
        "\n",
        "nltk.download('averaged_perceptron_tagger')"
      ],
      "metadata": {
        "colab": {
          "base_uri": "https://localhost:8080/"
        },
        "id": "qLZu_SMj5eb9",
        "outputId": "5ca4a2e1-c4ff-4482-f13b-d494dad19487"
      },
      "execution_count": 2,
      "outputs": [
        {
          "output_type": "stream",
          "name": "stderr",
          "text": [
            "[nltk_data] Downloading package punkt to /root/nltk_data...\n",
            "[nltk_data]   Unzipping tokenizers/punkt.zip.\n",
            "[nltk_data] Downloading package averaged_perceptron_tagger to\n",
            "[nltk_data]     /root/nltk_data...\n",
            "[nltk_data]   Unzipping taggers/averaged_perceptron_tagger.zip.\n"
          ]
        },
        {
          "output_type": "execute_result",
          "data": {
            "text/plain": [
              "True"
            ]
          },
          "metadata": {},
          "execution_count": 2
        }
      ]
    },
    {
      "cell_type": "code",
      "source": [
        "# Function to find nouns in a sentence\n",
        "def find_nouns(sentence):\n",
        "    # Tokenize the sentence and get the part-of-speech tags\n",
        "    words = word_tokenize(sentence)\n",
        "    tags = pos_tag(words)\n",
        "\n",
        "    # Extract nouns from the tagged words\n",
        "    nouns = [word for word, tag in tags if tag in ['NN', 'NNS', 'NNP', 'NNPS']]\n",
        "\n",
        "    return nouns\n",
        "\n",
        "# Function to translate text to Hindi\n",
        "def translate_to_hindi(text):\n",
        "    translator = Translator()\n",
        "    translation = translator.translate(text, src='en', dest='hi')\n",
        "    return translation.text\n",
        "\n",
        "# Function to replace nouns in Hindi sentence with their English counterparts\n",
        "def replace_nouns_with_english(hindi_sentence, english_sentence):\n",
        "    # Find nouns in the English sentence\n",
        "    english_nouns = find_nouns(english_sentence)\n",
        "\n",
        "    # Translate the English nouns to Hindi\n",
        "    translated_nouns = [translate_to_hindi(noun) for noun in english_nouns]\n",
        "\n",
        "    # Create a dictionary to map translated nouns to their English counterparts\n",
        "    noun_mapping = {translated: original for original, translated in zip(english_nouns, translated_nouns)}\n",
        "\n",
        "    # Replace nouns in the Hindi sentence with their English counterparts\n",
        "    for hindi_noun, english_noun in noun_mapping.items():\n",
        "        hindi_sentence = hindi_sentence.replace(hindi_noun, english_noun)\n",
        "\n",
        "    return hindi_sentence"
      ],
      "metadata": {
        "id": "PDnjn-pi8mS2"
      },
      "execution_count": 3,
      "outputs": []
    },
    {
      "cell_type": "code",
      "source": [
        "# Test the function\n",
        "sentence = input(\"Enter a sentence: \")\n",
        "hindi_translation = translate_to_hindi(sentence)\n",
        "\n",
        "result_sentence = replace_nouns_with_english(hindi_translation, sentence)\n",
        "print(\"Hinglish Sentence:\", result_sentence)"
      ],
      "metadata": {
        "colab": {
          "base_uri": "https://localhost:8080/"
        },
        "id": "e14jBCeq51Qt",
        "outputId": "b7d9b9c4-3526-47a0-e44b-85462ba0f1b5"
      },
      "execution_count": 5,
      "outputs": [
        {
          "output_type": "stream",
          "name": "stdout",
          "text": [
            "Enter a sentence: I had about a 30 minute demo just using this new headset\n",
            "Hinglish Sentence: मेरे पास इस नए headset का उपयोग करके लगभग 30 minute का demo था\n"
          ]
        }
      ]
    },
    {
      "cell_type": "code",
      "source": [
        "# Input sentences\n",
        "sentences = [\n",
        "    \"Definitely share your feedback in the comment section.\",\n",
        "    \"So even if it's a big video, I will clearly mention all the products.\",\n",
        "    \"I was waiting for my bag.\"\n",
        "]\n",
        "\n",
        "# Translate each sentence to Hinglish with word selection\n",
        "for sentence in sentences:\n",
        "  hindi_translation = translate_to_hindi(sentence)\n",
        "\n",
        "  result_sentence = replace_nouns_with_english(hindi_translation, sentence)\n",
        "  print(\"Hinglish Sentence:\", result_sentence)\n"
      ],
      "metadata": {
        "colab": {
          "base_uri": "https://localhost:8080/"
        },
        "id": "2gJuu0pg55v9",
        "outputId": "5010c46b-b86b-4222-9170-0138e32b4401"
      },
      "execution_count": 6,
      "outputs": [
        {
          "output_type": "stream",
          "name": "stdout",
          "text": [
            "Hinglish Sentence: निश्चित रूप से comment section में अपनी feedback साझा करें।\n",
            "Hinglish Sentence: तो भले ही यह एक बड़ा video है, मैं स्पष्ट रूप से सभी products का उल्लेख करूंगा।\n",
            "Hinglish Sentence: मैं अपने बैग का इंतजार कर रहा था।\n"
          ]
        }
      ]
    },
    {
      "cell_type": "code",
      "source": [
        "reference_translations = [\n",
        "    \"निश्चित रूप से comment section में अपनी feedback साझा करें।\",\n",
        "    \"तो भले ही यह एक बड़ा video है, मैं स्पष्ट रूप से सभी products का उल्लेख करूंगा।\",\n",
        "    \"मैं अपने बैग का इंतजार कर रहा था।\"\n",
        "]\n",
        "\n",
        "# Initialize a counter for correct translations\n",
        "correct_translations = 0\n",
        "\n",
        "# Translate each sentence and compare to the reference translation\n",
        "for sentence, reference in zip(sentences, reference_translations):\n",
        "    hindi_translation = translate_to_hindi(sentence)\n",
        "    result_sentence = replace_nouns_with_english(hindi_translation, sentence)\n",
        "\n",
        "    # Check if the generated translation matches the reference translation\n",
        "    if result_sentence == reference:\n",
        "        correct_translations += 1\n",
        "\n",
        "# Calculate accuracy\n",
        "accuracy = (correct_translations / len(sentences)) * 100\n",
        "\n",
        "# Print the accuracy\n",
        "print(f\"Accuracy: {accuracy:.2f}%\")\n"
      ],
      "metadata": {
        "colab": {
          "base_uri": "https://localhost:8080/"
        },
        "id": "SzP2xCf7-ahf",
        "outputId": "e99dacf0-0926-4298-ab33-727b921fd442"
      },
      "execution_count": 7,
      "outputs": [
        {
          "output_type": "stream",
          "name": "stdout",
          "text": [
            "Accuracy: 100.00%\n"
          ]
        }
      ]
    }
  ]
}